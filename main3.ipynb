{
  "nbformat": 4,
  "nbformat_minor": 0,
  "metadata": {
    "kernelspec": {
      "display_name": "Python 3.7",
      "language": "python",
      "name": "python3"
    },
    "language_info": {
      "codemirror_mode": {
        "name": "ipython",
        "version": 3
      },
      "file_extension": ".py",
      "mimetype": "text/x-python",
      "name": "python",
      "nbconvert_exporter": "python",
      "pygments_lexer": "ipython3",
      "version": "3.7.10"
    },
    "colab": {
      "name": "main.ipynb",
      "provenance": [],
      "toc_visible": true
    }
  },
  "cells": [
    {
      "cell_type": "markdown",
      "metadata": {
        "collapsed": true,
        "id": "BOXnRoVAzQWk"
      },
      "source": [
        "# Notebook for Capstone Project"
      ]
    },
    {
      "cell_type": "markdown",
      "metadata": {
        "id": "xHcP12D47hPK"
      },
      "source": [
        "# Import libraries"
      ]
    },
    {
      "cell_type": "code",
      "metadata": {
        "colab": {
          "base_uri": "https://localhost:8080/"
        },
        "id": "iNzH3EX0zQWt",
        "outputId": "12a5b457-36e7-4370-aebf-2a6ff1f06965"
      },
      "source": [
        "import pandas as pd\n",
        "import numpy as npù\n",
        "!pip install bs4\n",
        "\n",
        "from bs4 import BeautifulSoup\n",
        "import requests"
      ],
      "execution_count": 146,
      "outputs": [
        {
          "output_type": "stream",
          "text": [
            "Requirement already satisfied: bs4 in /usr/local/lib/python3.7/dist-packages (0.0.1)\n",
            "Requirement already satisfied: beautifulsoup4 in /usr/local/lib/python3.7/dist-packages (from bs4) (4.6.3)\n"
          ],
          "name": "stdout"
        }
      ]
    },
    {
      "cell_type": "markdown",
      "metadata": {
        "id": "mHpchqJy7kzd"
      },
      "source": [
        "# Get the html from url"
      ]
    },
    {
      "cell_type": "code",
      "metadata": {
        "id": "-OsQcuVJzu2Z"
      },
      "source": [
        "headers = {'Accept-Encoding': 'identity'}\n",
        "r = requests.get('https://en.wikipedia.org/wiki/List_of_postal_codes_of_Canada:_M', headers=headers)"
      ],
      "execution_count": 147,
      "outputs": []
    },
    {
      "cell_type": "markdown",
      "metadata": {
        "id": "BvBO0e-B7n1f"
      },
      "source": [
        "# Use BeatifulSoup library to analyze html and show it with prettify method"
      ]
    },
    {
      "cell_type": "code",
      "metadata": {
        "id": "jfSoBd7FzQWu"
      },
      "source": [
        "soup = BeautifulSoup(r.text, 'html5lib')\n",
        "print(soup.prettify())"
      ],
      "execution_count": null,
      "outputs": []
    },
    {
      "cell_type": "markdown",
      "metadata": {
        "id": "hhzqmKEk7uPq"
      },
      "source": [
        "# Parse the html in order to find infos as suggested and create the ngbr_toronto dataframe"
      ]
    },
    {
      "cell_type": "code",
      "metadata": {
        "colab": {
          "base_uri": "https://localhost:8080/",
          "height": 204
        },
        "id": "SPvBHlJj3Ap7",
        "outputId": "496dc077-b5c3-4697-e78a-28f9090bddd9"
      },
      "source": [
        "table_contents=[]\n",
        "table=soup.find('table')\n",
        "for row in table.findAll('td'):\n",
        "    cell = {}\n",
        "    if row.span.text=='Not assigned':\n",
        "        pass\n",
        "    else:\n",
        "        cell['PostalCode'] = row.p.text[:3]\n",
        "        cell['Borough'] = (row.span.text).split('(')[0]\n",
        "        cell['Neighborhood'] = (((((row.span.text).split('(')[1]).strip(')')).replace(' /',',')).replace(')',' ')).strip(' ')\n",
        "        table_contents.append(cell)\n",
        "\n",
        "# print(table_contents)\n",
        "ngbr_toronto=pd.DataFrame(table_contents)\n",
        "ngbr_toronto['Borough']=ngbr_toronto['Borough'].replace({'Downtown TorontoStn A PO Boxes25 The Esplanade':'Downtown Toronto Stn A',\n",
        "                                             'East TorontoBusiness reply mail Processing Centre969 Eastern':'East Toronto Business',\n",
        "                                             'EtobicokeNorthwest':'Etobicoke Northwest','East YorkEast Toronto':'East York/East Toronto',\n",
        "                                             'MississaugaCanada Post Gateway Processing Centre':'Mississauga'})\n",
        "\n",
        "ngbr_toronto.head()"
      ],
      "execution_count": 149,
      "outputs": [
        {
          "output_type": "execute_result",
          "data": {
            "text/html": [
              "<div>\n",
              "<style scoped>\n",
              "    .dataframe tbody tr th:only-of-type {\n",
              "        vertical-align: middle;\n",
              "    }\n",
              "\n",
              "    .dataframe tbody tr th {\n",
              "        vertical-align: top;\n",
              "    }\n",
              "\n",
              "    .dataframe thead th {\n",
              "        text-align: right;\n",
              "    }\n",
              "</style>\n",
              "<table border=\"1\" class=\"dataframe\">\n",
              "  <thead>\n",
              "    <tr style=\"text-align: right;\">\n",
              "      <th></th>\n",
              "      <th>PostalCode</th>\n",
              "      <th>Borough</th>\n",
              "      <th>Neighborhood</th>\n",
              "    </tr>\n",
              "  </thead>\n",
              "  <tbody>\n",
              "    <tr>\n",
              "      <th>0</th>\n",
              "      <td>M3A</td>\n",
              "      <td>North York</td>\n",
              "      <td>Parkwoods</td>\n",
              "    </tr>\n",
              "    <tr>\n",
              "      <th>1</th>\n",
              "      <td>M4A</td>\n",
              "      <td>North York</td>\n",
              "      <td>Victoria Village</td>\n",
              "    </tr>\n",
              "    <tr>\n",
              "      <th>2</th>\n",
              "      <td>M5A</td>\n",
              "      <td>Downtown Toronto</td>\n",
              "      <td>Regent Park, Harbourfront</td>\n",
              "    </tr>\n",
              "    <tr>\n",
              "      <th>3</th>\n",
              "      <td>M6A</td>\n",
              "      <td>North York</td>\n",
              "      <td>Lawrence Manor, Lawrence Heights</td>\n",
              "    </tr>\n",
              "    <tr>\n",
              "      <th>4</th>\n",
              "      <td>M7A</td>\n",
              "      <td>Queen's Park</td>\n",
              "      <td>Ontario Provincial Government</td>\n",
              "    </tr>\n",
              "  </tbody>\n",
              "</table>\n",
              "</div>"
            ],
            "text/plain": [
              "  PostalCode           Borough                      Neighborhood\n",
              "0        M3A        North York                         Parkwoods\n",
              "1        M4A        North York                  Victoria Village\n",
              "2        M5A  Downtown Toronto         Regent Park, Harbourfront\n",
              "3        M6A        North York  Lawrence Manor, Lawrence Heights\n",
              "4        M7A      Queen's Park     Ontario Provincial Government"
            ]
          },
          "metadata": {
            "tags": []
          },
          "execution_count": 149
        }
      ]
    },
    {
      "cell_type": "markdown",
      "metadata": {
        "id": "DCTw7rdM76Rn"
      },
      "source": [
        " # Group on PostalCode (it will automatically combine on the same Neighborhood values) and than replace all 'Not Assigned' values in Neighborhood with the value of the proper Borough "
      ]
    },
    {
      "cell_type": "code",
      "metadata": {
        "id": "gLiR3lr91ZEZ"
      },
      "source": [
        "ngbr_toronto.set_index('PostalCode', drop=False, inplace=True)\n",
        "ngbr_toronto.rename(columns={'PostalCode': 'Postal Code'}, inplace=True)\n",
        "ngbr_toronto = ngbr_toronto.groupby(by='PostalCode').sum()\n",
        "ngbr_toronto.reset_index(drop=True, inplace=True)\n",
        "ngbr_toronto['Neighborhood'] = ngbr_toronto.apply(lambda row: row['Borough'] if row['Neighborhood'] == 'Not Assigned' else row['Neighborhood'], axis=1)"
      ],
      "execution_count": 150,
      "outputs": []
    },
    {
      "cell_type": "markdown",
      "metadata": {
        "id": "1PUG0yOU8RgI"
      },
      "source": [
        "# Print the shape of the created dataframe"
      ]
    },
    {
      "cell_type": "code",
      "metadata": {
        "colab": {
          "base_uri": "https://localhost:8080/"
        },
        "id": "6PQnAaQACRCU",
        "outputId": "379f173e-ac10-43ef-cde0-c7fa5a0fb535"
      },
      "source": [
        "ngbr_toronto.shape()"
      ],
      "execution_count": 151,
      "outputs": [
        {
          "output_type": "execute_result",
          "data": {
            "text/plain": [
              "(103, 3)"
            ]
          },
          "metadata": {
            "tags": []
          },
          "execution_count": 151
        }
      ]
    },
    {
      "cell_type": "markdown",
      "metadata": {
        "id": "YDY2WKIoCk9_"
      },
      "source": [
        "# Merge Coordinates Informations"
      ]
    },
    {
      "cell_type": "code",
      "metadata": {
        "colab": {
          "base_uri": "https://localhost:8080/",
          "height": 359
        },
        "id": "PErOQGmDCo9K",
        "outputId": "170723c7-f1b8-485e-c14a-9168902dbeec"
      },
      "source": [
        "coordinates_df = pd.read_csv('/content/Geospatial_Coordinates.csv')\n",
        "ngbr_toronto = pd.merge(ngbr_toronto, coordinates_df, on='Postal Code')\n",
        "ngbr_toronto.head(10)"
      ],
      "execution_count": 152,
      "outputs": [
        {
          "output_type": "execute_result",
          "data": {
            "text/html": [
              "<div>\n",
              "<style scoped>\n",
              "    .dataframe tbody tr th:only-of-type {\n",
              "        vertical-align: middle;\n",
              "    }\n",
              "\n",
              "    .dataframe tbody tr th {\n",
              "        vertical-align: top;\n",
              "    }\n",
              "\n",
              "    .dataframe thead th {\n",
              "        text-align: right;\n",
              "    }\n",
              "</style>\n",
              "<table border=\"1\" class=\"dataframe\">\n",
              "  <thead>\n",
              "    <tr style=\"text-align: right;\">\n",
              "      <th></th>\n",
              "      <th>Postal Code</th>\n",
              "      <th>Borough</th>\n",
              "      <th>Neighborhood</th>\n",
              "      <th>Latitude</th>\n",
              "      <th>Longitude</th>\n",
              "    </tr>\n",
              "  </thead>\n",
              "  <tbody>\n",
              "    <tr>\n",
              "      <th>0</th>\n",
              "      <td>M1B</td>\n",
              "      <td>Scarborough</td>\n",
              "      <td>Malvern, Rouge</td>\n",
              "      <td>43.806686</td>\n",
              "      <td>-79.194353</td>\n",
              "    </tr>\n",
              "    <tr>\n",
              "      <th>1</th>\n",
              "      <td>M1C</td>\n",
              "      <td>Scarborough</td>\n",
              "      <td>Rouge Hill, Port Union, Highland Creek</td>\n",
              "      <td>43.784535</td>\n",
              "      <td>-79.160497</td>\n",
              "    </tr>\n",
              "    <tr>\n",
              "      <th>2</th>\n",
              "      <td>M1E</td>\n",
              "      <td>Scarborough</td>\n",
              "      <td>Guildwood, Morningside, West Hill</td>\n",
              "      <td>43.763573</td>\n",
              "      <td>-79.188711</td>\n",
              "    </tr>\n",
              "    <tr>\n",
              "      <th>3</th>\n",
              "      <td>M1G</td>\n",
              "      <td>Scarborough</td>\n",
              "      <td>Woburn</td>\n",
              "      <td>43.770992</td>\n",
              "      <td>-79.216917</td>\n",
              "    </tr>\n",
              "    <tr>\n",
              "      <th>4</th>\n",
              "      <td>M1H</td>\n",
              "      <td>Scarborough</td>\n",
              "      <td>Cedarbrae</td>\n",
              "      <td>43.773136</td>\n",
              "      <td>-79.239476</td>\n",
              "    </tr>\n",
              "    <tr>\n",
              "      <th>5</th>\n",
              "      <td>M1J</td>\n",
              "      <td>Scarborough</td>\n",
              "      <td>Scarborough Village</td>\n",
              "      <td>43.744734</td>\n",
              "      <td>-79.239476</td>\n",
              "    </tr>\n",
              "    <tr>\n",
              "      <th>6</th>\n",
              "      <td>M1K</td>\n",
              "      <td>Scarborough</td>\n",
              "      <td>Kennedy Park, Ionview, East Birchmount Park</td>\n",
              "      <td>43.727929</td>\n",
              "      <td>-79.262029</td>\n",
              "    </tr>\n",
              "    <tr>\n",
              "      <th>7</th>\n",
              "      <td>M1L</td>\n",
              "      <td>Scarborough</td>\n",
              "      <td>Golden Mile, Clairlea, Oakridge</td>\n",
              "      <td>43.711112</td>\n",
              "      <td>-79.284577</td>\n",
              "    </tr>\n",
              "    <tr>\n",
              "      <th>8</th>\n",
              "      <td>M1M</td>\n",
              "      <td>Scarborough</td>\n",
              "      <td>Cliffside, Cliffcrest, Scarborough Village West</td>\n",
              "      <td>43.716316</td>\n",
              "      <td>-79.239476</td>\n",
              "    </tr>\n",
              "    <tr>\n",
              "      <th>9</th>\n",
              "      <td>M1N</td>\n",
              "      <td>Scarborough</td>\n",
              "      <td>Birch Cliff, Cliffside West</td>\n",
              "      <td>43.692657</td>\n",
              "      <td>-79.264848</td>\n",
              "    </tr>\n",
              "  </tbody>\n",
              "</table>\n",
              "</div>"
            ],
            "text/plain": [
              "  Postal Code      Borough  ...   Latitude  Longitude\n",
              "0         M1B  Scarborough  ...  43.806686 -79.194353\n",
              "1         M1C  Scarborough  ...  43.784535 -79.160497\n",
              "2         M1E  Scarborough  ...  43.763573 -79.188711\n",
              "3         M1G  Scarborough  ...  43.770992 -79.216917\n",
              "4         M1H  Scarborough  ...  43.773136 -79.239476\n",
              "5         M1J  Scarborough  ...  43.744734 -79.239476\n",
              "6         M1K  Scarborough  ...  43.727929 -79.262029\n",
              "7         M1L  Scarborough  ...  43.711112 -79.284577\n",
              "8         M1M  Scarborough  ...  43.716316 -79.239476\n",
              "9         M1N  Scarborough  ...  43.692657 -79.264848\n",
              "\n",
              "[10 rows x 5 columns]"
            ]
          },
          "metadata": {
            "tags": []
          },
          "execution_count": 152
        }
      ]
    },
    {
      "cell_type": "markdown",
      "metadata": {
        "id": "31ksIH8WEbd5"
      },
      "source": [
        "# Create map with all coordinates"
      ]
    },
    {
      "cell_type": "code",
      "metadata": {
        "id": "JOznGNMgEg1T"
      },
      "source": [
        "import folium\n",
        "map_toronto = folium.Map(zoom_start=1)\n",
        "\n",
        "# add markers to map\n",
        "for lat, lng, borough, neighborhood in zip(ngbr_toronto['Latitude'], ngbr_toronto['Longitude'], ngbr_toronto['Borough'], ngbr_toronto['Neighborhood']):\n",
        "    label = '{}, {}'.format(neighborhood, borough)\n",
        "    label = folium.Popup(label, parse_html=True)\n",
        "    folium.CircleMarker(\n",
        "        [lat, lng],\n",
        "        radius=5,\n",
        "        popup=label,\n",
        "        color='blue',\n",
        "        fill=True,\n",
        "        fill_color='#3186cc',\n",
        "        fill_opacity=0.7,\n",
        "        parse_html=False).add_to(map_toronto)  \n",
        "    \n",
        "map_toronto"
      ],
      "execution_count": null,
      "outputs": []
    },
    {
      "cell_type": "markdown",
      "metadata": {
        "id": "GlwuNSQcFak7"
      },
      "source": [
        "# Let's use Foursquare API to explore neighborhood in ngbr_toronto dataframe"
      ]
    },
    {
      "cell_type": "markdown",
      "metadata": {
        "id": "kapLwqecGBOv"
      },
      "source": [
        "## Foursquare access"
      ]
    },
    {
      "cell_type": "code",
      "metadata": {
        "id": "2Dj4z_iPFlEw",
        "outputId": "7679961c-daf3-414d-89f5-c7bed6aea959",
        "colab": {
          "base_uri": "https://localhost:8080/"
        }
      },
      "source": [
        "CLIENT_ID = 'EWL1F4APWLEDLJEIN1YA2VUZV4VUI5ZI2XS13P2T5HTGWWRT' # your Foursquare ID\n",
        "CLIENT_SECRET = 'PKB1DKE4HHLRRLEX01WESNZBQD0DGPPGIFAMHHB0KYK1B1TC' # your Foursquare Secret\n",
        "ACCESS_TOKEN = 'FSWGHGNOWYZJCNZ3D1PGRW0JKHL4J21MLY3SBUYZFBBQA1NM' # your FourSquare Access Token\n",
        "VERSION = '20180605' # Foursquare API version\n",
        "LIMIT = 100 # A default Foursquare API limit value\n",
        "\n",
        "print('Your credentails:')\n",
        "print('CLIENT_ID: ' + CLIENT_ID)\n",
        "print('CLIENT_SECRET:' + CLIENT_SECRET)"
      ],
      "execution_count": 159,
      "outputs": [
        {
          "output_type": "stream",
          "text": [
            "Your credentails:\n",
            "CLIENT_ID: EWL1F4APWLEDLJEIN1YA2VUZV4VUI5ZI2XS13P2T5HTGWWRT\n",
            "CLIENT_SECRET:PKB1DKE4HHLRRLEX01WESNZBQD0DGPPGIFAMHHB0KYK1B1TC\n"
          ],
          "name": "stdout"
        }
      ]
    },
    {
      "cell_type": "markdown",
      "metadata": {
        "id": "SvbBe05BGGuf"
      },
      "source": [
        "## Get one neighborhood with max occurences"
      ]
    },
    {
      "cell_type": "code",
      "metadata": {
        "id": "WjMEBbt-FrXY"
      },
      "source": [
        "max_occurences = ngbr_toronto.loc[:, 'Neighborhood'].value_counts().idxmax()\n",
        "max_occurences = max_occurences.split(',')[0]"
      ],
      "execution_count": 170,
      "outputs": []
    },
    {
      "cell_type": "markdown",
      "metadata": {
        "id": "an-3js0OGehi"
      },
      "source": [
        "## Get the top 50 venue for the neighborhood with max occurences"
      ]
    },
    {
      "cell_type": "code",
      "metadata": {
        "id": "DqEm6VX7GlGi"
      },
      "source": [
        "neighborhood_latitude = ngbr_toronto[ngbr_toronto['Neighborhood'] ==  max_occurences]['Latitude'].iloc[0]\n",
        "neighborhood_longitude = ngbr_toronto[ngbr_toronto['Neighborhood'] ==  max_occurences]['Longitude'].iloc[0]\n",
        "\n",
        "limit = 50\n",
        "radius = 500\n",
        "\n",
        "# Create the url\n",
        "url = 'https://api.foursquare.com/v2/venues/explore?&client_id={}&client_secret={}&v={}&ll={},{}&radius={}&limit={}'.format(\n",
        "    CLIENT_ID, \n",
        "    CLIENT_SECRET, \n",
        "    VERSION, \n",
        "    neighborhood_latitude, \n",
        "    neighborhood_longitude, \n",
        "    radius, \n",
        "    limit)"
      ],
      "execution_count": 182,
      "outputs": []
    },
    {
      "cell_type": "markdown",
      "metadata": {
        "id": "sGPIF6qEJuTj"
      },
      "source": [
        "## Save the result in a json object"
      ]
    },
    {
      "cell_type": "code",
      "metadata": {
        "id": "quTrZa6iJxPK"
      },
      "source": [
        "results = requests.get(url).json()"
      ],
      "execution_count": null,
      "outputs": []
    }
  ]
}